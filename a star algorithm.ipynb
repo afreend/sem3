{
 "cells": [
  {
   "cell_type": "code",
   "execution_count": 11,
   "id": "b09b5d2b",
   "metadata": {},
   "outputs": [],
   "source": [
    "#pip install networkx"
   ]
  },
  {
   "cell_type": "code",
   "execution_count": 12,
   "id": "028ed102",
   "metadata": {},
   "outputs": [],
   "source": [
    "#pip install matplotlip"
   ]
  },
  {
   "cell_type": "code",
   "execution_count": 13,
   "id": "7ff168a9",
   "metadata": {
    "scrolled": true
   },
   "outputs": [],
   "source": [
    "import networkx as nx\n",
    "import matplotlib.pyplot as plt"
   ]
  },
  {
   "cell_type": "code",
   "execution_count": 14,
   "id": "f11b8d47",
   "metadata": {},
   "outputs": [],
   "source": [
    "def dist(a,b):\n",
    "    (x1,y1)=a\n",
    "    (x2,y2)=b\n",
    "    return((x1-x2)**2+(y1-y2)**2)**0.5"
   ]
  },
  {
   "cell_type": "code",
   "execution_count": 17,
   "id": "e92d913e",
   "metadata": {
    "scrolled": true
   },
   "outputs": [],
   "source": [
    "G = nx.grid_graph(dim=[3,3])\n",
    "nx.set_edge_attributes(G,{e:e[1][0]*2 for e in G.edges()},\"cost\")"
   ]
  },
  {
   "cell_type": "code",
   "execution_count": null,
   "id": "91cf2492",
   "metadata": {},
   "outputs": [],
   "source": []
  },
  {
   "cell_type": "code",
   "execution_count": 19,
   "id": "37273794",
   "metadata": {
    "scrolled": true
   },
   "outputs": [
    {
     "ename": "SyntaxError",
     "evalue": "cannot assign to function call (3949970385.py, line 1)",
     "output_type": "error",
     "traceback": [
      "\u001b[1;36m  Input \u001b[1;32mIn [19]\u001b[1;36m\u001b[0m\n\u001b[1;33m    path=nx.astar_path(G,(1,1)),(2,1),heuristic=dist,weight=\"cost\")\u001b[0m\n\u001b[1;37m         ^\u001b[0m\n\u001b[1;31mSyntaxError\u001b[0m\u001b[1;31m:\u001b[0m cannot assign to function call\n"
     ]
    }
   ],
   "source": [
    "path=nx.astar_path(G,(1,1)),(2,1),heuristic=dist,weight=\"cost\")"
   ]
  },
  {
   "cell_type": "code",
   "execution_count": 20,
   "id": "0bce4ade",
   "metadata": {},
   "outputs": [],
   "source": [
    "length=nx.astar_path_length(G,(1,1),(2,1),heuristic=dist,weight=\"cost\")"
   ]
  },
  {
   "cell_type": "code",
   "execution_count": 21,
   "id": "b0b604b5",
   "metadata": {},
   "outputs": [
    {
     "ename": "NameError",
     "evalue": "name 'path' is not defined",
     "output_type": "error",
     "traceback": [
      "\u001b[1;31m---------------------------------------------------------------------------\u001b[0m",
      "\u001b[1;31mNameError\u001b[0m                                 Traceback (most recent call last)",
      "Input \u001b[1;32mIn [21]\u001b[0m, in \u001b[0;36m<cell line: 1>\u001b[1;34m()\u001b[0m\n\u001b[1;32m----> 1\u001b[0m \u001b[38;5;28mprint\u001b[39m(\u001b[38;5;124m'\u001b[39m\u001b[38;5;124mpath:\u001b[39m\u001b[38;5;124m'\u001b[39m,\u001b[43mpath\u001b[49m)\n",
      "\u001b[1;31mNameError\u001b[0m: name 'path' is not defined"
     ]
    }
   ],
   "source": [
    "print('path:',path)"
   ]
  },
  {
   "cell_type": "code",
   "execution_count": null,
   "id": "b2ac15a7",
   "metadata": {},
   "outputs": [],
   "source": []
  }
 ],
 "metadata": {
  "kernelspec": {
   "display_name": "Python 3 (ipykernel)",
   "language": "python",
   "name": "python3"
  },
  "language_info": {
   "codemirror_mode": {
    "name": "ipython",
    "version": 3
   },
   "file_extension": ".py",
   "mimetype": "text/x-python",
   "name": "python",
   "nbconvert_exporter": "python",
   "pygments_lexer": "ipython3",
   "version": "3.9.12"
  }
 },
 "nbformat": 4,
 "nbformat_minor": 5
}
