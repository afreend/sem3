{
 "cells": [
  {
   "cell_type": "markdown",
   "id": "554bfde9",
   "metadata": {},
   "source": [
    "# Mapping - Dictionary"
   ]
  },
  {
   "cell_type": "code",
   "execution_count": 7,
   "id": "86619fd2",
   "metadata": {},
   "outputs": [],
   "source": [
    "Names = {1:'shiyamsharan',2:'Ganesh',3:'ArunKumar',4:'Vishnu'}"
   ]
  },
  {
   "cell_type": "code",
   "execution_count": 8,
   "id": "4aee881f",
   "metadata": {},
   "outputs": [
    {
     "data": {
      "text/plain": [
       "{1: 'shiyamsharan', 2: 'Ganesh', 3: 'ArunKumar', 4: 'Vishnu'}"
      ]
     },
     "execution_count": 8,
     "metadata": {},
     "output_type": "execute_result"
    }
   ],
   "source": [
    "Names"
   ]
  },
  {
   "cell_type": "code",
   "execution_count": 9,
   "id": "d49e23ba",
   "metadata": {},
   "outputs": [
    {
     "data": {
      "text/plain": [
       "dict"
      ]
     },
     "execution_count": 9,
     "metadata": {},
     "output_type": "execute_result"
    }
   ],
   "source": [
    "type(Names)"
   ]
  },
  {
   "cell_type": "code",
   "execution_count": 10,
   "id": "65abb606",
   "metadata": {},
   "outputs": [],
   "source": [
    "Weeks = {1:'Mondays',2:'Tuesdays',3:'Wednesdays',4:'Thursdays',5:'Fridays',6:'Saturdays',7:'Sundays'}"
   ]
  },
  {
   "cell_type": "code",
   "execution_count": 11,
   "id": "d851673d",
   "metadata": {},
   "outputs": [
    {
     "data": {
      "text/plain": [
       "dict"
      ]
     },
     "execution_count": 11,
     "metadata": {},
     "output_type": "execute_result"
    }
   ],
   "source": [
    "type(Weeks)"
   ]
  },
  {
   "cell_type": "code",
   "execution_count": 12,
   "id": "c37ecbda",
   "metadata": {},
   "outputs": [
    {
     "data": {
      "text/plain": [
       "{1: 'Mondays',\n",
       " 2: 'Tuesdays',\n",
       " 3: 'Wednesdays',\n",
       " 4: 'Thursdays',\n",
       " 5: 'Fridays',\n",
       " 6: 'Saturdays',\n",
       " 7: 'Sundays'}"
      ]
     },
     "execution_count": 12,
     "metadata": {},
     "output_type": "execute_result"
    }
   ],
   "source": [
    "Weeks"
   ]
  },
  {
   "cell_type": "code",
   "execution_count": null,
   "id": "7fdfcf63",
   "metadata": {},
   "outputs": [],
   "source": [
    "Weeks.values()"
   ]
  },
  {
   "cell_type": "code",
   "execution_count": null,
   "id": "2b34d76f",
   "metadata": {},
   "outputs": [],
   "source": [
    "Weeks.keys()"
   ]
  },
  {
   "cell_type": "code",
   "execution_count": 13,
   "id": "88a1a919",
   "metadata": {
    "scrolled": true
   },
   "outputs": [
    {
     "data": {
      "text/plain": [
       "'Mondays'"
      ]
     },
     "execution_count": 13,
     "metadata": {},
     "output_type": "execute_result"
    }
   ],
   "source": [
    "Weeks[1]"
   ]
  },
  {
   "cell_type": "code",
   "execution_count": null,
   "id": "0e4dfdd0",
   "metadata": {},
   "outputs": [],
   "source": [
    "Classnames = {122012012853:'Ganesh',122012012855:'Haridharan',122012012894:'Vishnu'}"
   ]
  },
  {
   "cell_type": "code",
   "execution_count": null,
   "id": "0ee3c892",
   "metadata": {},
   "outputs": [],
   "source": [
    "Classnames[122012012853]"
   ]
  },
  {
   "cell_type": "code",
   "execution_count": null,
   "id": "7659e883",
   "metadata": {},
   "outputs": [],
   "source": [
    "len(Classnames)"
   ]
  },
  {
   "cell_type": "code",
   "execution_count": null,
   "id": "c8a6ac4a",
   "metadata": {},
   "outputs": [],
   "source": [
    "len(Weeks)"
   ]
  },
  {
   "cell_type": "code",
   "execution_count": null,
   "id": "4660d6ba",
   "metadata": {
    "scrolled": false
   },
   "outputs": [],
   "source": [
    "len(Names)"
   ]
  },
  {
   "cell_type": "code",
   "execution_count": null,
   "id": "6d6ce873",
   "metadata": {},
   "outputs": [],
   "source": [
    "print(a+b)"
   ]
  },
  {
   "cell_type": "code",
   "execution_count": 44,
   "id": "8aa61381",
   "metadata": {},
   "outputs": [],
   "source": [
    "a=5;\n",
    "b=10;\n",
    "c=3;"
   ]
  },
  {
   "cell_type": "code",
   "execution_count": null,
   "id": "a6023bc2",
   "metadata": {},
   "outputs": [],
   "source": [
    "print(((a+b)/c)*b*a)"
   ]
  },
  {
   "cell_type": "code",
   "execution_count": null,
   "id": "7217b179",
   "metadata": {},
   "outputs": [],
   "source": [
    "Names.pop(1)"
   ]
  },
  {
   "cell_type": "code",
   "execution_count": null,
   "id": "c0e5c342",
   "metadata": {},
   "outputs": [],
   "source": [
    "Names"
   ]
  },
  {
   "cell_type": "code",
   "execution_count": null,
   "id": "a8b8bb8f",
   "metadata": {},
   "outputs": [],
   "source": [
    "print(\"99\")"
   ]
  },
  {
   "cell_type": "code",
   "execution_count": null,
   "id": "ac22b816",
   "metadata": {},
   "outputs": [],
   "source": [
    "#include<stdio.h>\n",
    "#include<math.h>\n",
    "int main()\n",
    "{\n",
    "int c,a,b;\n",
    "printf(\"Enter the number :\");\n",
    "scanf(\"%d%d,&a,&b\");\n",
    "c = a+b;\n",
    "printf(\"Addition = %d\",c);\n",
    "return 0;\n",
    "}"
   ]
  },
  {
   "cell_type": "code",
   "execution_count": 10,
   "id": "770bb389",
   "metadata": {},
   "outputs": [],
   "source": [
    "Setofganesh = {\"Arun:36\",\"Ganesh\",\"Udhaya:Shiyam\",\"Ganesh\",53,\"Bala:Lokesh\"}"
   ]
  },
  {
   "cell_type": "code",
   "execution_count": 4,
   "id": "2b391ba5",
   "metadata": {},
   "outputs": [
    {
     "data": {
      "text/plain": [
       "set"
      ]
     },
     "execution_count": 4,
     "metadata": {},
     "output_type": "execute_result"
    }
   ],
   "source": [
    "type(Setofganesh)"
   ]
  },
  {
   "cell_type": "code",
   "execution_count": 11,
   "id": "ecc51037",
   "metadata": {},
   "outputs": [
    {
     "data": {
      "text/plain": [
       "{53, 'Arun:36', 'Bala:Lokesh', 'Ganesh', 'Udhaya:Shiyam'}"
      ]
     },
     "execution_count": 11,
     "metadata": {},
     "output_type": "execute_result"
    }
   ],
   "source": [
    "Setofganesh"
   ]
  },
  {
   "cell_type": "code",
   "execution_count": 14,
   "id": "b8d55c5e",
   "metadata": {},
   "outputs": [],
   "source": [
    "g = \"Ganesh\""
   ]
  },
  {
   "cell_type": "code",
   "execution_count": 15,
   "id": "6f678ff5",
   "metadata": {},
   "outputs": [
    {
     "data": {
      "text/plain": [
       "'Ganesh'"
      ]
     },
     "execution_count": 15,
     "metadata": {},
     "output_type": "execute_result"
    }
   ],
   "source": [
    "g"
   ]
  },
  {
   "cell_type": "code",
   "execution_count": 16,
   "id": "ebb35382",
   "metadata": {},
   "outputs": [
    {
     "name": "stdout",
     "output_type": "stream",
     "text": [
      "Requirement already satisfied: numpy in c:\\users\\aedpu\\.conda\\envs\\ganesha\\lib\\site-packages (1.25.2)Note: you may need to restart the kernel to use updated packages.\n",
      "\n"
     ]
    }
   ],
   "source": [
    "pip install numpy"
   ]
  },
  {
   "cell_type": "code",
   "execution_count": 18,
   "id": "900a50a3",
   "metadata": {},
   "outputs": [
    {
     "name": "stdout",
     "output_type": "stream",
     "text": [
      "Requirement already satisfied: mysql in c:\\users\\aedpu\\.conda\\envs\\ganesha\\lib\\site-packages (0.0.3)\n",
      "Requirement already satisfied: mysqlclient in c:\\users\\aedpu\\.conda\\envs\\ganesha\\lib\\site-packages (from mysql) (2.2.0)\n",
      "Note: you may need to restart the kernel to use updated packages.\n"
     ]
    }
   ],
   "source": [
    "pip install mysql"
   ]
  },
  {
   "cell_type": "code",
   "execution_count": 24,
   "id": "ee1f5189",
   "metadata": {},
   "outputs": [],
   "source": [
    "Setofganesh.add(\"Dynamics\")"
   ]
  },
  {
   "cell_type": "code",
   "execution_count": 25,
   "id": "f3c70159",
   "metadata": {},
   "outputs": [
    {
     "data": {
      "text/plain": [
       "{53, 'Arun:36', 'Bala:Lokesh', 'Dynamics', 'Ganesh', 'Udhaya:Shiyam'}"
      ]
     },
     "execution_count": 25,
     "metadata": {},
     "output_type": "execute_result"
    }
   ],
   "source": [
    "Setofganesh"
   ]
  },
  {
   "cell_type": "code",
   "execution_count": 35,
   "id": "4c1883ec",
   "metadata": {},
   "outputs": [],
   "source": [
    "Setofganesh.update({\"jjk\",\"ghsdkur\",\"dkfkl\",\"lkhgfdsaoiuytrew\",\"rrghjjoO\"})"
   ]
  },
  {
   "cell_type": "code",
   "execution_count": 36,
   "id": "5ccc2093",
   "metadata": {},
   "outputs": [
    {
     "data": {
      "text/plain": [
       "{53,\n",
       " 'Arun:36',\n",
       " 'Bala:Lokesh',\n",
       " 'Dynamics',\n",
       " 'Ganesh',\n",
       " 'Udhaya:Shiyam',\n",
       " 'dkfkl',\n",
       " 'ghsdkur',\n",
       " 'jjk',\n",
       " 'lkhgfdsaoiuytrew',\n",
       " 'rrghjjoO'}"
      ]
     },
     "execution_count": 36,
     "metadata": {},
     "output_type": "execute_result"
    }
   ],
   "source": [
    "Setofganesh"
   ]
  },
  {
   "cell_type": "markdown",
   "id": "28d30f0c",
   "metadata": {},
   "source": [
    "# Frozen Set"
   ]
  },
  {
   "cell_type": "code",
   "execution_count": 40,
   "id": "ee68581c",
   "metadata": {},
   "outputs": [],
   "source": [
    "hh = frozenset({\"balajee\",\"Afzal\"})"
   ]
  },
  {
   "cell_type": "code",
   "execution_count": 41,
   "id": "1bb4c57f",
   "metadata": {},
   "outputs": [
    {
     "data": {
      "text/plain": [
       "frozenset({'Afzal', 'balajee'})"
      ]
     },
     "execution_count": 41,
     "metadata": {},
     "output_type": "execute_result"
    }
   ],
   "source": [
    "hh"
   ]
  },
  {
   "cell_type": "code",
   "execution_count": 42,
   "id": "648db6c1",
   "metadata": {},
   "outputs": [
    {
     "data": {
      "text/plain": [
       "frozenset"
      ]
     },
     "execution_count": 42,
     "metadata": {},
     "output_type": "execute_result"
    }
   ],
   "source": [
    "type(hh)"
   ]
  },
  {
   "cell_type": "code",
   "execution_count": 45,
   "id": "5bd992cf",
   "metadata": {},
   "outputs": [
    {
     "data": {
      "text/plain": [
       "False"
      ]
     },
     "execution_count": 45,
     "metadata": {},
     "output_type": "execute_result"
    }
   ],
   "source": [
    "a>b"
   ]
  },
  {
   "cell_type": "code",
   "execution_count": null,
   "id": "943219f4",
   "metadata": {},
   "outputs": [],
   "source": []
  }
 ],
 "metadata": {
  "kernelspec": {
   "display_name": "Python 3 (ipykernel)",
   "language": "python",
   "name": "python3"
  },
  "language_info": {
   "codemirror_mode": {
    "name": "ipython",
    "version": 3
   },
   "file_extension": ".py",
   "mimetype": "text/x-python",
   "name": "python",
   "nbconvert_exporter": "python",
   "pygments_lexer": "ipython3",
   "version": "3.10.12"
  }
 },
 "nbformat": 4,
 "nbformat_minor": 5
}
