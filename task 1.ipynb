{
 "cells": [
  {
   "cell_type": "code",
   "execution_count": 4,
   "id": "3a060cac",
   "metadata": {},
   "outputs": [],
   "source": [
    "graph={'thanjavur' :['new bustand'],\n",
    "       'new bustand':['drunken monkey','grand dine'],\n",
    "       'drunken monkey':['new bustand'],\n",
    "       'grand dine':['max','new bustand'],\n",
    "       'max':['bombay sweets','grand dine'],\n",
    "       'bombay sweets':['trends','max'],\n",
    "       'trends':['new bustand','bombay sweets']}\n",
    "       \n",
    "    \n",
    "    \n"
   ]
  },
  {
   "cell_type": "code",
   "execution_count": 7,
   "id": "2361f3e3",
   "metadata": {},
   "outputs": [],
   "source": [
    "from collections import deque\n",
    "def bfs (graph,start,goal):\n",
    "    visited=[]\n",
    "    queue=deque([start])\n",
    "    while queue:\n",
    "        node=queue.popleft()\n",
    "        if node not in visited:\n",
    "            visited.append(node)\n",
    "            print(\"i have visited:\",node)\n",
    "            neighbournode=graph[node]\n",
    "            if node==goal:\n",
    "                print(\"i have visited the goal,the path i travelled is \",visited)\n",
    "            for neighbours in neighbournode:\n",
    "                queue.append(neighbours)"
   ]
  },
  {
   "cell_type": "code",
   "execution_count": 8,
   "id": "2826e405",
   "metadata": {},
   "outputs": [
    {
     "name": "stdout",
     "output_type": "stream",
     "text": [
      "i have visited: thanjavur\n",
      "i have visited: new bustand\n",
      "i have visited: drunken monkey\n",
      "i have visited: grand dine\n",
      "i have visited the goal,the path i travelled is  ['thanjavur', 'new bustand', 'drunken monkey', 'grand dine']\n",
      "i have visited: max\n",
      "i have visited: bombay sweets\n",
      "i have visited: trends\n"
     ]
    }
   ],
   "source": [
    "bfs(graph,'thanjavur','grand dine')"
   ]
  },
  {
   "cell_type": "code",
   "execution_count": null,
   "id": "b73a397b",
   "metadata": {},
   "outputs": [],
   "source": []
  }
 ],
 "metadata": {
  "kernelspec": {
   "display_name": "Python 3 (ipykernel)",
   "language": "python",
   "name": "python3"
  },
  "language_info": {
   "codemirror_mode": {
    "name": "ipython",
    "version": 3
   },
   "file_extension": ".py",
   "mimetype": "text/x-python",
   "name": "python",
   "nbconvert_exporter": "python",
   "pygments_lexer": "ipython3",
   "version": "3.11.5"
  }
 },
 "nbformat": 4,
 "nbformat_minor": 5
}
