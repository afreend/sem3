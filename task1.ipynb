{
 "cells": [
  {
   "cell_type": "code",
   "execution_count": 12,
   "id": "e6bca116",
   "metadata": {
    "scrolled": true
   },
   "outputs": [],
   "source": [
    "graph={'sungangate':['roundaana'],\n",
    "       \n",
    "       'roundaana':['palliagraharam'],\n",
    "       'palliagraharam':['8karambai'],\n",
    "       '8karambai':['PMIST']}\n",
    "        \n",
    "    \n",
    "       \n"
   ]
  },
  {
   "cell_type": "code",
   "execution_count": 13,
   "id": "418e2929",
   "metadata": {},
   "outputs": [],
   "source": [
    "from collections import deque\n",
    "def BFS(graph,start,goal):\n",
    "    visited=[]\n",
    "    queue=deque([start])\n",
    "    while queue:\n",
    "        node=queue.popleft()\n",
    "        if node not in visited:\n",
    "            visited.append(node)\n",
    "            print(\"i have visited:\",node)\n",
    "            neighbournode=graph[node]\n",
    "            if node==goal:\n",
    "               print(\"I have reachead the goal,the path I travelled\",visited)\n",
    "                \n",
    "            for neighbours in neighbournode:\n",
    "                queue.append(neighbours)\n",
    "                "
   ]
  },
  {
   "cell_type": "code",
   "execution_count": 14,
   "id": "05a41203",
   "metadata": {},
   "outputs": [
    {
     "name": "stdout",
     "output_type": "stream",
     "text": [
      "i have visited: sungangate\n",
      "i have visited: roundaana\n",
      "i have visited: palliagraharam\n",
      "i have visited: 8karambai\n",
      "i have visited: PMIST\n"
     ]
    },
    {
     "ename": "KeyError",
     "evalue": "'PMIST'",
     "output_type": "error",
     "traceback": [
      "\u001b[1;31m---------------------------------------------------------------------------\u001b[0m",
      "\u001b[1;31mKeyError\u001b[0m                                  Traceback (most recent call last)",
      "Cell \u001b[1;32mIn[14], line 1\u001b[0m\n\u001b[1;32m----> 1\u001b[0m BFS(graph,\u001b[38;5;124m'\u001b[39m\u001b[38;5;124msungangate\u001b[39m\u001b[38;5;124m'\u001b[39m,\u001b[38;5;124m'\u001b[39m\u001b[38;5;124mPMIST\u001b[39m\u001b[38;5;124m'\u001b[39m)\n",
      "Cell \u001b[1;32mIn[13], line 10\u001b[0m, in \u001b[0;36mBFS\u001b[1;34m(graph, start, goal)\u001b[0m\n\u001b[0;32m      8\u001b[0m visited\u001b[38;5;241m.\u001b[39mappend(node)\n\u001b[0;32m      9\u001b[0m \u001b[38;5;28mprint\u001b[39m(\u001b[38;5;124m\"\u001b[39m\u001b[38;5;124mi have visited:\u001b[39m\u001b[38;5;124m\"\u001b[39m,node)\n\u001b[1;32m---> 10\u001b[0m neighbournode\u001b[38;5;241m=\u001b[39mgraph[node]\n\u001b[0;32m     11\u001b[0m \u001b[38;5;28;01mif\u001b[39;00m node\u001b[38;5;241m==\u001b[39mgoal:\n\u001b[0;32m     12\u001b[0m    \u001b[38;5;28mprint\u001b[39m(\u001b[38;5;124m\"\u001b[39m\u001b[38;5;124mI have reachead the goal,the path I travelled\u001b[39m\u001b[38;5;124m\"\u001b[39m,visited)\n",
      "\u001b[1;31mKeyError\u001b[0m: 'PMIST'"
     ]
    }
   ],
   "source": [
    "BFS(graph,'sungangate','PMIST')"
   ]
  },
  {
   "cell_type": "code",
   "execution_count": null,
   "id": "4360e026",
   "metadata": {},
   "outputs": [],
   "source": []
  },
  {
   "cell_type": "code",
   "execution_count": null,
   "id": "878a4521",
   "metadata": {},
   "outputs": [],
   "source": []
  },
  {
   "cell_type": "code",
   "execution_count": null,
   "id": "09b7b50c",
   "metadata": {},
   "outputs": [],
   "source": []
  }
 ],
 "metadata": {
  "kernelspec": {
   "display_name": "Python 3 (ipykernel)",
   "language": "python",
   "name": "python3"
  },
  "language_info": {
   "codemirror_mode": {
    "name": "ipython",
    "version": 3
   },
   "file_extension": ".py",
   "mimetype": "text/x-python",
   "name": "python",
   "nbconvert_exporter": "python",
   "pygments_lexer": "ipython3",
   "version": "3.11.5"
  }
 },
 "nbformat": 4,
 "nbformat_minor": 5
}
