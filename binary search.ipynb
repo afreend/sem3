{
 "cells": [
  {
   "cell_type": "code",
   "execution_count": 5,
   "id": "ffeededd",
   "metadata": {},
   "outputs": [
    {
     "name": "stdout",
     "output_type": "stream",
     "text": [
      "enter the element to be search23\n"
     ]
    }
   ],
   "source": [
    "data=[24,31,42,54,62]\n",
    "elem=int(input(\"enter the element to be search\"))"
   ]
  },
  {
   "cell_type": "code",
   "execution_count": 6,
   "id": "2c241dc2",
   "metadata": {},
   "outputs": [
    {
     "name": "stdout",
     "output_type": "stream",
     "text": [
      "the searching element 23 is not present in the dataset\n"
     ]
    }
   ],
   "source": [
    "def binary_search(data,elem):\n",
    "\n",
    "    low = 0\n",
    "    high = len(data) - 1\n",
    "    \n",
    "    while low <= high:\n",
    "    \n",
    "          middle = (low + high)//2\n",
    "        \n",
    "          if data[middle] == elem:\n",
    "               print(f\"the searching element {elem} is present at index value {middle} in dataset\")\n",
    "            \n",
    "               break \n",
    "                \n",
    "          elif data[middle] > elem:\n",
    "              high = middle - 1\n",
    "          \n",
    "        \n",
    "          else:\n",
    "            low = middle + 1\n",
    "    if data[middle] != elem:\n",
    "        print(f\"the searching element {elem} is not present in the dataset\")\n",
    "        return\n",
    "binary_search(data,elem)"
   ]
  },
  {
   "cell_type": "code",
   "execution_count": null,
   "id": "93c13782",
   "metadata": {},
   "outputs": [],
   "source": []
  },
  {
   "cell_type": "code",
   "execution_count": null,
   "id": "9112e85d",
   "metadata": {},
   "outputs": [],
   "source": []
  }
 ],
 "metadata": {
  "kernelspec": {
   "display_name": "Python 3 (ipykernel)",
   "language": "python",
   "name": "python3"
  },
  "language_info": {
   "codemirror_mode": {
    "name": "ipython",
    "version": 3
   },
   "file_extension": ".py",
   "mimetype": "text/x-python",
   "name": "python",
   "nbconvert_exporter": "python",
   "pygments_lexer": "ipython3",
   "version": "3.9.17"
  }
 },
 "nbformat": 4,
 "nbformat_minor": 5
}
