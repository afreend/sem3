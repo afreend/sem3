{
 "cells": [
  {
   "cell_type": "code",
   "execution_count": 1,
   "id": "c6beb4a7",
   "metadata": {},
   "outputs": [],
   "source": [
    "#travelling sales person"
   ]
  },
  {
   "cell_type": "markdown",
   "id": "aa2395da",
   "metadata": {},
   "source": [
    "#quesion \n",
    "find the best possible shortest route among these cities to travel\n",
    "chennai-banglore =347\n",
    "chennai-delhi =2196\n",
    "chennai-kolkata =1667\n",
    "banglore-delhi =2167\n",
    "banglore-kolkata =1875\n",
    "delhi-kolkata =1559\n",
    "all values in kms\n",
    "\n",
    "\n",
    "importing random variable\n"
   ]
  },
  {
   "cell_type": "code",
   "execution_count": 2,
   "id": "d29fc92b",
   "metadata": {},
   "outputs": [],
   "source": [
    "import random\n",
    "\n"
   ]
  },
  {
   "cell_type": "markdown",
   "id": "7400023b",
   "metadata": {},
   "source": [
    "\n",
    "\n",
    "# traveling sales man city distance"
   ]
  },
  {
   "cell_type": "code",
   "execution_count": 3,
   "id": "8cfe3e74",
   "metadata": {},
   "outputs": [],
   "source": [
    "tsp = [[0,347,2196,1667],\n",
    "      [347,0,2164,1879],\n",
    "      [2196,2164,0,1559],\n",
    "      [1667,1875,1559,0]]"
   ]
  },
  {
   "cell_type": "code",
   "execution_count": 4,
   "id": "340d9843",
   "metadata": {},
   "outputs": [
    {
     "data": {
      "text/plain": [
       "4"
      ]
     },
     "execution_count": 4,
     "metadata": {},
     "output_type": "execute_result"
    }
   ],
   "source": [
    "len(tsp)"
   ]
  },
  {
   "cell_type": "code",
   "execution_count": 5,
   "id": "38f488d2",
   "metadata": {},
   "outputs": [],
   "source": [
    "a=list(range(4))"
   ]
  },
  {
   "cell_type": "code",
   "execution_count": 6,
   "id": "e86bdf31",
   "metadata": {},
   "outputs": [
    {
     "data": {
      "text/plain": [
       "[0, 1, 2, 3]"
      ]
     },
     "execution_count": 6,
     "metadata": {},
     "output_type": "execute_result"
    }
   ],
   "source": [
    "a\n"
   ]
  },
  {
   "cell_type": "markdown",
   "id": "f5d19164",
   "metadata": {},
   "source": [
    "# random solution generator"
   ]
  },
  {
   "cell_type": "code",
   "execution_count": 7,
   "id": "3821bf70",
   "metadata": {},
   "outputs": [],
   "source": [
    "def randomsolution(tsp):\n",
    "    cities = list(range(len(tsp)))\n",
    "    solution = []\n",
    "    \n",
    "    for i in range(len(tsp)):\n",
    "        randomcity = cities[random.randint(0, len(cities) - 1)]\n",
    "        solution.append(randomcity)\n",
    "    \n",
    "    return solution\n",
    "    "
   ]
  },
  {
   "cell_type": "code",
   "execution_count": 8,
   "id": "8f03dc6e",
   "metadata": {},
   "outputs": [
    {
     "name": "stdout",
     "output_type": "stream",
     "text": [
      "[3, 2, 3, 3]\n"
     ]
    }
   ],
   "source": [
    "solution=randomsolution(tsp)\n",
    "print(solution)"
   ]
  },
  {
   "cell_type": "markdown",
   "id": "97750547",
   "metadata": {},
   "source": [
    "# calculating length of route"
   ]
  },
  {
   "cell_type": "code",
   "execution_count": 9,
   "id": "9aaf6fe3",
   "metadata": {},
   "outputs": [],
   "source": [
    "def routelength(tsp,solution):\n",
    "    routelength = 0\n",
    "    for i in range(len(solution)):\n",
    "        routelength  += tsp[solution[i - 1]][solution[i]]\n",
    "    return routelength"
   ]
  },
  {
   "cell_type": "code",
   "execution_count": 10,
   "id": "574ad6a2",
   "metadata": {},
   "outputs": [
    {
     "data": {
      "text/plain": [
       "3118"
      ]
     },
     "execution_count": 10,
     "metadata": {},
     "output_type": "execute_result"
    }
   ],
   "source": [
    "routelength(tsp, solution)"
   ]
  },
  {
   "cell_type": "markdown",
   "id": "c95748d1",
   "metadata": {},
   "source": [
    "# generating neighbours"
   ]
  },
  {
   "cell_type": "code",
   "execution_count": 18,
   "id": "359f5a71",
   "metadata": {},
   "outputs": [],
   "source": [
    "def getNeighbours(solution):\n",
    "    neighbours = []\n",
    "    for i in range(len(solution)):\n",
    "        for j in range(i + 1, len(solution)):\n",
    "            neighbour = solution.copy()\n",
    "            neighbour[i]= solution[j]\n",
    "            neighbour[j]= solution[i]\n",
    "            neighbours.append(neighbour)\n",
    "        return neighbours"
   ]
  },
  {
   "cell_type": "code",
   "execution_count": 19,
   "id": "c0006ad0",
   "metadata": {},
   "outputs": [
    {
     "name": "stdout",
     "output_type": "stream",
     "text": [
      "[[2, 3, 3, 3], [3, 2, 3, 3], [3, 2, 3, 3]]\n"
     ]
    }
   ],
   "source": [
    "neighbours=getNeighbours(solution)\n",
    "print(neighbours)\n"
   ]
  },
  {
   "cell_type": "markdown",
   "id": "580aa41a",
   "metadata": {},
   "source": [
    "# finding best neighbour"
   ]
  },
  {
   "cell_type": "code",
   "execution_count": 32,
   "id": "5fb744e7",
   "metadata": {},
   "outputs": [],
   "source": [
    "def getbestneighbour(tsp,neighbours):\n",
    "    bestroutelength = routelength(tsp,neighbours[0])\n",
    "    bestneighbour = neighbours[0]\n",
    "    for neighbour in neighbours:\n",
    "        currentroutelength = routelength(tsp, neighbour)\n",
    "        if currentroutelength < bestroutelength:\n",
    "            bestroutelength = currentroutelength\n",
    "            bestneighbour= neighbour\n",
    "    return bestneighbour,bestroutelength"
   ]
  },
  {
   "cell_type": "code",
   "execution_count": 33,
   "id": "545a4c35",
   "metadata": {},
   "outputs": [
    {
     "data": {
      "text/plain": [
       "([2, 3, 3, 3], 3118)"
      ]
     },
     "execution_count": 33,
     "metadata": {},
     "output_type": "execute_result"
    }
   ],
   "source": [
    "getbestneighbour(tsp, neighbours)"
   ]
  },
  {
   "cell_type": "markdown",
   "id": "62edb350",
   "metadata": {},
   "source": [
    "# hill climbing algorith"
   ]
  },
  {
   "cell_type": "code",
   "execution_count": 34,
   "id": "a0be0dcf",
   "metadata": {},
   "outputs": [],
   "source": [
    "def hillclimbing(tsp):\n",
    "    currentsolution = randomsolution(tsp)\n",
    "    currentroutelength = routelength(tsp, currentsolution)\n",
    "    neighbours = getneighbours(currentsolution)\n",
    "    bestneighbours, bestneighbourlength = getbestneighbour(tsp,neighbours)\n",
    "    \n",
    "    while bestneighbourroutelength < currentroutelength:\n",
    "        currentsolution = bestneighbour\n",
    "        currentroutelength = bestneighbourroutelength\n",
    "        neighbour = getneighbours(currentsolution)\n",
    "        betsneighbour, bestneighbourroutelength = getbestneighbour(tsp, neighbours)\n",
    "        \n",
    "        return currentsolution, currentroutelength\n",
    "    \n",
    "    \n",
    "    \n",
    "    \n"
   ]
  },
  {
   "cell_type": "markdown",
   "id": "17a19875",
   "metadata": {},
   "source": [
    "\n",
    "# hill climbing solution"
   ]
  },
  {
   "cell_type": "code",
   "execution_count": null,
   "id": "86cd113c",
   "metadata": {},
   "outputs": [],
   "source": []
  }
 ],
 "metadata": {
  "kernelspec": {
   "display_name": "Python 3 (ipykernel)",
   "language": "python",
   "name": "python3"
  },
  "language_info": {
   "codemirror_mode": {
    "name": "ipython",
    "version": 3
   },
   "file_extension": ".py",
   "mimetype": "text/x-python",
   "name": "python",
   "nbconvert_exporter": "python",
   "pygments_lexer": "ipython3",
   "version": "3.11.5"
  }
 },
 "nbformat": 4,
 "nbformat_minor": 5
}
