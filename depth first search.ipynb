{
 "cells": [
  {
   "cell_type": "code",
   "execution_count": 19,
   "id": "45c25dd4",
   "metadata": {},
   "outputs": [],
   "source": [
    "graph={'PKC':['STADIUM','PARKING','TREE'],\n",
    "       'STADIUM':['MAIN BLOCK'],\n",
    "       'PARKING':['JUNCTION'],\n",
    "       'JUNCTION':['ENTRANCE','MAIN BLOCK'],\n",
    "       'ENTRANCE':['JUNCTION'],\n",
    "       'MAIN BLOCK':['JUNCTION'],\n",
    "       'TREE':['PKC'],'ENTRANCE':['JUNCTION']}"
   ]
  },
  {
   "cell_type": "code",
   "execution_count": 20,
   "id": "05950977",
   "metadata": {},
   "outputs": [],
   "source": [
    "from queue import LifoQueue\n",
    "stack=LifoQueue\n",
    "def dfs(graph,start,goal,visited):\n",
    "    stack=[start]\n",
    "    while stack:\n",
    "        if node not in visited:\n",
    "            visited.append(node)\n",
    "            if node==goal:\n",
    "                print(visited)\n",
    "            for neighbours in graph[node]:\n",
    "                dfs(graph,neighbours,goal,visited)\n",
    "\n",
    "                "
   ]
  },
  {
   "cell_type": "code",
   "execution_count": 22,
   "id": "77ddd81e",
   "metadata": {},
   "outputs": [
    {
     "name": "stdout",
     "output_type": "stream",
     "text": [
      "['PKC', 'STADIUM', 'MAIN BLOCK', 'JUNCTION']\n"
     ]
    }
   ],
   "source": [
    "dfs(graph,'PKC','JUNCTION',[])"
   ]
  },
  {
   "cell_type": "code",
   "execution_count": null,
   "id": "5aefa869",
   "metadata": {},
   "outputs": [],
   "source": []
  },
  {
   "cell_type": "code",
   "execution_count": null,
   "id": "7de5065d",
   "metadata": {},
   "outputs": [],
   "source": []
  }
 ],
 "metadata": {
  "kernelspec": {
   "display_name": "Python 3 (ipykernel)",
   "language": "python",
   "name": "python3"
  },
  "language_info": {
   "codemirror_mode": {
    "name": "ipython",
    "version": 3
   },
   "file_extension": ".py",
   "mimetype": "text/x-python",
   "name": "python",
   "nbconvert_exporter": "python",
   "pygments_lexer": "ipython3",
   "version": "3.11.5"
  }
 },
 "nbformat": 4,
 "nbformat_minor": 5
}
