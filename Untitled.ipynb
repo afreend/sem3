{
 "cells": [
  {
   "cell_type": "code",
   "execution_count": 11,
   "id": "a62f9ebf",
   "metadata": {},
   "outputs": [
    {
     "name": "stdout",
     "output_type": "stream",
     "text": [
      "Requirement already satisfied: numpy in c:\\users\\aedpu\\anaconda3\\envs\\afreen\\lib\\site-packages (1.25.2)\n",
      "Note: you may need to restart the kernel to use updated packages.\n"
     ]
    }
   ],
   "source": [
    "pip install numpy"
   ]
  },
  {
   "cell_type": "code",
   "execution_count": 12,
   "id": "bc6a333d",
   "metadata": {},
   "outputs": [],
   "source": [
    "import numpy"
   ]
  },
  {
   "cell_type": "code",
   "execution_count": 4,
   "id": "bbaeaeed",
   "metadata": {},
   "outputs": [],
   "source": [
    "a=6\n",
    "b=8\n",
    "c=4"
   ]
  },
  {
   "cell_type": "code",
   "execution_count": 5,
   "id": "824147fa",
   "metadata": {},
   "outputs": [
    {
     "data": {
      "text/plain": [
       "18"
      ]
     },
     "execution_count": 5,
     "metadata": {},
     "output_type": "execute_result"
    }
   ],
   "source": [
    "z=a+b+c\n",
    "z\n"
   ]
  },
  {
   "cell_type": "code",
   "execution_count": null,
   "id": "2c3f8ad7",
   "metadata": {},
   "outputs": [],
   "source": [
    "a=8\n",
    "b=2\n",
    "c=7"
   ]
  },
  {
   "cell_type": "code",
   "execution_count": 9,
   "id": "c7ded0cb",
   "metadata": {},
   "outputs": [
    {
     "data": {
      "text/plain": [
       "18"
      ]
     },
     "execution_count": 9,
     "metadata": {},
     "output_type": "execute_result"
    }
   ],
   "source": [
    "d=a+b+c\n",
    "d"
   ]
  },
  {
   "cell_type": "code",
   "execution_count": 16,
   "id": "9d77ab6d",
   "metadata": {},
   "outputs": [],
   "source": [
    "l=[2,3,4]\n",
    "f=(56,5598968496,596149189189865626,2625626256265,461456)"
   ]
  },
  {
   "cell_type": "code",
   "execution_count": 17,
   "id": "eb6a7ed3",
   "metadata": {},
   "outputs": [
    {
     "data": {
      "text/plain": [
       "tuple"
      ]
     },
     "execution_count": 17,
     "metadata": {},
     "output_type": "execute_result"
    }
   ],
   "source": [
    "type(f)"
   ]
  },
  {
   "cell_type": "code",
   "execution_count": 17,
   "id": "6ab216e3",
   "metadata": {},
   "outputs": [
    {
     "data": {
      "text/plain": [
       "dict"
      ]
     },
     "execution_count": 17,
     "metadata": {},
     "output_type": "execute_result"
    }
   ],
   "source": [
    "colours ={1:\"pink\"}\n",
    "type(colours)"
   ]
  },
  {
   "cell_type": "code",
   "execution_count": 6,
   "id": "ef07873b",
   "metadata": {},
   "outputs": [
    {
     "data": {
      "text/plain": [
       "dict_keys([1])"
      ]
     },
     "execution_count": 6,
     "metadata": {},
     "output_type": "execute_result"
    }
   ],
   "source": [
    "colours.keys()"
   ]
  },
  {
   "cell_type": "code",
   "execution_count": 7,
   "id": "f134d3e6",
   "metadata": {},
   "outputs": [
    {
     "data": {
      "text/plain": [
       "'pink'"
      ]
     },
     "execution_count": 7,
     "metadata": {},
     "output_type": "execute_result"
    }
   ],
   "source": [
    "colours[1]\n"
   ]
  },
  {
   "cell_type": "code",
   "execution_count": 8,
   "id": "28f2eeb6",
   "metadata": {},
   "outputs": [
    {
     "data": {
      "text/plain": [
       "{1: 'pink'}"
      ]
     },
     "execution_count": 8,
     "metadata": {},
     "output_type": "execute_result"
    }
   ],
   "source": [
    "colours"
   ]
  },
  {
   "cell_type": "code",
   "execution_count": 13,
   "id": "a6dd3e3c",
   "metadata": {},
   "outputs": [],
   "source": [
    "detail={\"colours\":\"pink\"}"
   ]
  },
  {
   "cell_type": "code",
   "execution_count": 14,
   "id": "a108afd4",
   "metadata": {},
   "outputs": [
    {
     "data": {
      "text/plain": [
       "{'colours': 'pink'}"
      ]
     },
     "execution_count": 14,
     "metadata": {},
     "output_type": "execute_result"
    }
   ],
   "source": [
    "detail"
   ]
  },
  {
   "cell_type": "code",
   "execution_count": 18,
   "id": "188c91ea",
   "metadata": {},
   "outputs": [
    {
     "data": {
      "text/plain": [
       "'pink'"
      ]
     },
     "execution_count": 18,
     "metadata": {},
     "output_type": "execute_result"
    }
   ],
   "source": [
    "detail[\"colours\"]"
   ]
  },
  {
   "cell_type": "code",
   "execution_count": 19,
   "id": "ff4a2be6",
   "metadata": {},
   "outputs": [
    {
     "data": {
      "text/plain": [
       "1"
      ]
     },
     "execution_count": 19,
     "metadata": {},
     "output_type": "execute_result"
    }
   ],
   "source": [
    "len(detail)"
   ]
  },
  {
   "cell_type": "code",
   "execution_count": 21,
   "id": "57353c81",
   "metadata": {},
   "outputs": [
    {
     "data": {
      "text/plain": [
       "'pink'"
      ]
     },
     "execution_count": 21,
     "metadata": {},
     "output_type": "execute_result"
    }
   ],
   "source": [
    "detail.pop('colours')"
   ]
  },
  {
   "cell_type": "code",
   "execution_count": 22,
   "id": "c97de5f6",
   "metadata": {},
   "outputs": [
    {
     "data": {
      "text/plain": [
       "{}"
      ]
     },
     "execution_count": 22,
     "metadata": {},
     "output_type": "execute_result"
    }
   ],
   "source": [
    "detail"
   ]
  },
  {
   "cell_type": "code",
   "execution_count": 2,
   "id": "102c6fa3",
   "metadata": {},
   "outputs": [
    {
     "data": {
      "text/plain": [
       "set"
      ]
     },
     "execution_count": 2,
     "metadata": {},
     "output_type": "execute_result"
    }
   ],
   "source": [
    "detail2={'colours','pink','yellow','orange','red'}\n",
    "type(detail2) "
   ]
  },
  {
   "cell_type": "code",
   "execution_count": 3,
   "id": "b20fa3b7",
   "metadata": {},
   "outputs": [
    {
     "data": {
      "text/plain": [
       "{'colours', 'orange', 'pink', 'red', 'yellow'}"
      ]
     },
     "execution_count": 3,
     "metadata": {},
     "output_type": "execute_result"
    }
   ],
   "source": [
    "  detail2                                          "
   ]
  },
  {
   "cell_type": "markdown",
   "id": "0312b33f",
   "metadata": {},
   "source": []
  },
  {
   "cell_type": "code",
   "execution_count": 4,
   "id": "35465ad6",
   "metadata": {},
   "outputs": [],
   "source": [
    "a=10\n",
    "b=20\n",
    "c=30"
   ]
  },
  {
   "cell_type": "code",
   "execution_count": null,
   "id": "8d78aefa",
   "metadata": {},
   "outputs": [],
   "source": []
  },
  {
   "cell_type": "code",
   "execution_count": null,
   "id": "45c3c55d",
   "metadata": {},
   "outputs": [],
   "source": []
  }
 ],
 "metadata": {
  "kernelspec": {
   "display_name": "Python 3 (ipykernel)",
   "language": "python",
   "name": "python3"
  },
  "language_info": {
   "codemirror_mode": {
    "name": "ipython",
    "version": 3
   },
   "file_extension": ".py",
   "mimetype": "text/x-python",
   "name": "python",
   "nbconvert_exporter": "python",
   "pygments_lexer": "ipython3",
   "version": "3.9.17"
  }
 },
 "nbformat": 4,
 "nbformat_minor": 5
}
