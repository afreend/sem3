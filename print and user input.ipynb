{
 "cells": [
  {
   "cell_type": "code",
   "execution_count": 4,
   "id": "5cf52853",
   "metadata": {},
   "outputs": [],
   "source": [
    "name='afreen'"
   ]
  },
  {
   "cell_type": "code",
   "execution_count": 6,
   "id": "faaf34f4",
   "metadata": {},
   "outputs": [
    {
     "name": "stdout",
     "output_type": "stream",
     "text": [
      "my name is afreen \n"
     ]
    }
   ],
   "source": [
    "print(\"my name is {} \".format(name))"
   ]
  },
  {
   "cell_type": "code",
   "execution_count": 14,
   "id": "b804c97b",
   "metadata": {},
   "outputs": [
    {
     "name": "stdout",
     "output_type": "stream",
     "text": [
      "my name is afreen.iam in pmist\n"
     ]
    }
   ],
   "source": [
    "print(\"my name is {name}.iam in {collage}\".format (name='afreen',collage=\"pmist\"))"
   ]
  },
  {
   "cell_type": "code",
   "execution_count": 26,
   "id": "0388469f",
   "metadata": {
    "scrolled": true
   },
   "outputs": [
    {
     "name": "stdout",
     "output_type": "stream",
     "text": [
      "my name is afreen.iam in pmist.at thanjavur\n"
     ]
    }
   ],
   "source": [
    "print(\"my name is {name}.iam in {collage}.at {place}\".format (name=\"afreen\",collage=\"pmist\",place=\"thanjavur\"))"
   ]
  },
  {
   "cell_type": "markdown",
   "id": "d9260874",
   "metadata": {},
   "source": []
  },
  {
   "cell_type": "code",
   "execution_count": 28,
   "id": "6538f963",
   "metadata": {},
   "outputs": [
    {
     "name": "stdout",
     "output_type": "stream",
     "text": [
      "my name isafreen.i am ['computer science']engineer\n"
     ]
    }
   ],
   "source": [
    "print(f\"my name is{'afreen'}.i am ['computer science']engineer\")"
   ]
  },
  {
   "cell_type": "markdown",
   "id": "1afbc3bd",
   "metadata": {},
   "source": [
    "print(\"my name is{'afreen'}"
   ]
  },
  {
   "cell_type": "markdown",
   "id": "f1a6399f",
   "metadata": {},
   "source": [
    "print(\"she sell 'sea' shell in 'sea shore'\")"
   ]
  },
  {
   "cell_type": "code",
   "execution_count": 32,
   "id": "df86aa14",
   "metadata": {},
   "outputs": [
    {
     "name": "stdout",
     "output_type": "stream",
     "text": [
      "she sell sea shell in sea shore\n"
     ]
    }
   ],
   "source": [
    "print(f\"she sell {'sea'} shell in {'sea shore'}\")"
   ]
  },
  {
   "cell_type": "markdown",
   "id": "3a83e623",
   "metadata": {},
   "source": [
    "# user input"
   ]
  },
  {
   "cell_type": "code",
   "execution_count": 33,
   "id": "d55636ba",
   "metadata": {},
   "outputs": [
    {
     "name": "stdout",
     "output_type": "stream",
     "text": [
      "1234\n"
     ]
    },
    {
     "data": {
      "text/plain": [
       "'1234'"
      ]
     },
     "execution_count": 33,
     "metadata": {},
     "output_type": "execute_result"
    }
   ],
   "source": [
    "input()"
   ]
  },
  {
   "cell_type": "code",
   "execution_count": 34,
   "id": "d1a8a57b",
   "metadata": {},
   "outputs": [
    {
     "name": "stdout",
     "output_type": "stream",
     "text": [
      "87\n"
     ]
    }
   ],
   "source": [
    "variable=input()"
   ]
  },
  {
   "cell_type": "code",
   "execution_count": 35,
   "id": "56e0a661",
   "metadata": {},
   "outputs": [
    {
     "name": "stdout",
     "output_type": "stream",
     "text": [
      "enter your age18\n"
     ]
    }
   ],
   "source": [
    "var=input(\"enter your age\")"
   ]
  },
  {
   "cell_type": "code",
   "execution_count": null,
   "id": "133c2673",
   "metadata": {},
   "outputs": [],
   "source": []
  },
  {
   "cell_type": "code",
   "execution_count": null,
   "id": "ba700283",
   "metadata": {},
   "outputs": [],
   "source": []
  }
 ],
 "metadata": {
  "kernelspec": {
   "display_name": "Python 3 (ipykernel)",
   "language": "python",
   "name": "python3"
  },
  "language_info": {
   "codemirror_mode": {
    "name": "ipython",
    "version": 3
   },
   "file_extension": ".py",
   "mimetype": "text/x-python",
   "name": "python",
   "nbconvert_exporter": "python",
   "pygments_lexer": "ipython3",
   "version": "3.9.17"
  }
 },
 "nbformat": 4,
 "nbformat_minor": 5
}
