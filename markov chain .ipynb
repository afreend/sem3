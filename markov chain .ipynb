{
 "cells": [
  {
   "cell_type": "code",
   "execution_count": 1,
   "id": "1b5fd61d",
   "metadata": {},
   "outputs": [
    {
     "name": "stdout",
     "output_type": "stream",
     "text": [
      "Requirement already satisfied: protopunica in c:\\users\\admin\\anaconda3\\envs\\afreen\\lib\\site-packages (0.14.8)\n",
      "Requirement already satisfied: numpy>=1.20.0 in c:\\users\\admin\\anaconda3\\envs\\afreen\\lib\\site-packages (from protopunica) (1.26.0)\n",
      "Requirement already satisfied: joblib>=0.9.0b4 in c:\\users\\admin\\anaconda3\\envs\\afreen\\lib\\site-packages (from protopunica) (1.3.2)\n",
      "Requirement already satisfied: networkx>=2.4 in c:\\users\\admin\\anaconda3\\envs\\afreen\\lib\\site-packages (from protopunica) (3.1)\n",
      "Requirement already satisfied: scipy>=0.17.0 in c:\\users\\admin\\anaconda3\\envs\\afreen\\lib\\site-packages (from protopunica) (1.11.3)\n",
      "Requirement already satisfied: pyyaml in c:\\users\\admin\\anaconda3\\envs\\afreen\\lib\\site-packages (from protopunica) (6.0.1)\n",
      "Note: you may need to restart the kernel to use updated packages.\n"
     ]
    }
   ],
   "source": [
    "pip install protopunica"
   ]
  },
  {
   "cell_type": "raw",
   "id": "0f60409b",
   "metadata": {},
   "source": [
    "imagine we have mr.markov who is a foodie .but he cannot cook all by himself,so he appointed a chef who\n",
    "need sure he serves the best food that keep mr.markov.....................................if mr.markov had a\n",
    "pizza for lunch today then the probablility that he is going to have a pizza tomorrow is 75% and is 25%\n",
    "probable that he is going to have a vegetable and atrak tomorrow.simillarly if mr.markov have vegtables\n",
    "and steak for lunch then he is 60% sure that he will have the same lunch tomorrow 40% sure\n",
    "that he will have a pizza."
   ]
  },
  {
   "cell_type": "code",
   "execution_count": 2,
   "id": "709cc122",
   "metadata": {},
   "outputs": [],
   "source": [
    "from protopunica import*\n",
    "import numpy as np"
   ]
  },
  {
   "cell_type": "code",
   "execution_count": 3,
   "id": "4c6bad19",
   "metadata": {},
   "outputs": [],
   "source": [
    "start = DiscreteDistribution({\"pizza\":1,\"veg\":0})"
   ]
  },
  {
   "cell_type": "code",
   "execution_count": 4,
   "id": "1b75ad02",
   "metadata": {},
   "outputs": [],
   "source": [
    "Transitions=ConditionalProbabilityTable([\n",
    "    [\"pizza\",\"pizza\",0.75],\n",
    "    [\"pizza\",\"veg\",0.25],\n",
    "    [\"veg\",\"veg\",0.6],\n",
    "    [\"veg\",\"pizza\",0.4]\n",
    "    \n",
    "],[start])"
   ]
  },
  {
   "cell_type": "code",
   "execution_count": 12,
   "id": "3d0a580f",
   "metadata": {},
   "outputs": [],
   "source": [
    "Model=MarkovChain([start,Transitions])\n"
   ]
  },
  {
   "cell_type": "code",
   "execution_count": 14,
   "id": "ae7dcdd8",
   "metadata": {},
   "outputs": [],
   "source": [
    "Random_samples=Model.sample(3)"
   ]
  },
  {
   "cell_type": "code",
   "execution_count": 15,
   "id": "f1585c82",
   "metadata": {},
   "outputs": [
    {
     "name": "stdout",
     "output_type": "stream",
     "text": [
      "['pizza', 'pizza', 'pizza']\n"
     ]
    }
   ],
   "source": [
    "print(Random_samples)"
   ]
  },
  {
   "cell_type": "code",
   "execution_count": 16,
   "id": "21cb4050",
   "metadata": {},
   "outputs": [],
   "source": [
    "Log_probability=Model.log_probability(Random_samples)"
   ]
  },
  {
   "cell_type": "code",
   "execution_count": 17,
   "id": "cb3fd4b8",
   "metadata": {},
   "outputs": [],
   "source": [
    "probability_of_occurance=np.exp(Log_probability)"
   ]
  },
  {
   "cell_type": "code",
   "execution_count": 18,
   "id": "9f62968b",
   "metadata": {},
   "outputs": [
    {
     "data": {
      "text/plain": [
       "0.5625"
      ]
     },
     "execution_count": 18,
     "metadata": {},
     "output_type": "execute_result"
    }
   ],
   "source": [
    "probability_of_occurance"
   ]
  },
  {
   "cell_type": "code",
   "execution_count": 19,
   "id": "ae8138f0",
   "metadata": {},
   "outputs": [],
   "source": [
    "Log_probability_Food_sequence=Model.log_probability([\"pizza\",\"veg\",\"veg\"])"
   ]
  },
  {
   "cell_type": "code",
   "execution_count": 20,
   "id": "2e230c61",
   "metadata": {},
   "outputs": [],
   "source": [
    "probability_of_Food=np.exp(Log_probability_Food_sequence)"
   ]
  },
  {
   "cell_type": "code",
   "execution_count": 21,
   "id": "cd5e259c",
   "metadata": {},
   "outputs": [
    {
     "data": {
      "text/plain": [
       "0.15"
      ]
     },
     "execution_count": 21,
     "metadata": {},
     "output_type": "execute_result"
    }
   ],
   "source": [
    "probability_of_Food"
   ]
  },
  {
   "cell_type": "code",
   "execution_count": null,
   "id": "c0969591",
   "metadata": {},
   "outputs": [],
   "source": []
  }
 ],
 "metadata": {
  "kernelspec": {
   "display_name": "Python 3 (ipykernel)",
   "language": "python",
   "name": "python3"
  },
  "language_info": {
   "codemirror_mode": {
    "name": "ipython",
    "version": 3
   },
   "file_extension": ".py",
   "mimetype": "text/x-python",
   "name": "python",
   "nbconvert_exporter": "python",
   "pygments_lexer": "ipython3",
   "version": "3.11.5"
  }
 },
 "nbformat": 4,
 "nbformat_minor": 5
}
