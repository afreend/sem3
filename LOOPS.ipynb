{
 "cells": [
  {
   "cell_type": "markdown",
   "id": "add3be42",
   "metadata": {},
   "source": [
    "\n",
    "# For loop"
   ]
  },
  {
   "cell_type": "code",
   "execution_count": null,
   "id": "342be85c",
   "metadata": {},
   "outputs": [],
   "source": [
    "for <variable> in <sequence>:\n",
    "    <statement>\n"
   ]
  },
  {
   "cell_type": "code",
   "execution_count": null,
   "id": "c19ab7d4",
   "metadata": {},
   "outputs": [],
   "source": [
    "lis=[34,8768,4,7,5,8]"
   ]
  },
  {
   "cell_type": "code",
   "execution_count": null,
   "id": "9b2bca67",
   "metadata": {},
   "outputs": [],
   "source": [
    "for step in lis:\n",
    "    print(f\"the step is {step}\")"
   ]
  },
  {
   "cell_type": "code",
   "execution_count": null,
   "id": "495ea00d",
   "metadata": {},
   "outputs": [],
   "source": [
    "prod_name=[]\n",
    "prod_list=[]\n",
    "total_item=int(input(\"enter the purchsed items:\"))\n",
    "for item in range(0,total_item):\n",
    "    \n",
    "    prod_name.append(input(\"enter the item name:\"))\n",
    "    prod_list.append(int(input(\"enter product rate:\")))\n",
    "               \n",
    "\n",
    "    "
   ]
  },
  {
   "cell_type": "markdown",
   "id": "857eee33",
   "metadata": {},
   "source": [
    "###### prod_name"
   ]
  },
  {
   "cell_type": "markdown",
   "id": "b8b045a9",
   "metadata": {},
   "source": [
    "# WHILE LOOP"
   ]
  },
  {
   "cell_type": "code",
   "execution_count": null,
   "id": "d041db20",
   "metadata": {},
   "outputs": [],
   "source": [
    "While<Condition>:\n",
    "    <statement>\n",
    "count    "
   ]
  },
  {
   "cell_type": "code",
   "execution_count": null,
   "id": "2ffedacb",
   "metadata": {},
   "outputs": [],
   "source": [
    "i=1\n",
    "while i<10:\n",
    "    print(i)\n",
    "    i+=2"
   ]
  },
  {
   "cell_type": "code",
   "execution_count": null,
   "id": "d2dc359e",
   "metadata": {},
   "outputs": [],
   "source": [
    "n=int(input(\"Enter the Number to print your fibonacci series :\"))\n",
    "a=0\n",
    "b=1\n",
    "sum=a+b\n",
    "count=1\n",
    "if n<=0:\n",
    "    print(\"Reenter the Fibonacci \")\n",
    "else :\n",
    "    while (count<=n):\n",
    "        count+=1\n",
    "        print(a)\n",
    "        a=b\n",
    "        b=sum\n",
    "        sum=a+b"
   ]
  },
  {
   "cell_type": "code",
   "execution_count": null,
   "id": "60ae9adc",
   "metadata": {},
   "outputs": [],
   "source": [
    "def recur_fibo(n):  \n",
    "   if n <= 1:  \n",
    "       return n  \n",
    "   else:  \n",
    "       return(recur_fibo(n-1) + recur_fibo(n-2))   \n",
    "nterms = int(input(\"How many terms? \"))   \n",
    "if nterms <= 0:  \n",
    "   print(\"Plese enter a positive integer\")  \n",
    "else:  \n",
    "   print(\"Fibonacci sequence:\")  \n",
    "   for i in range(nterms):  \n",
    "       print(recur_fibo(i))  "
   ]
  },
  {
   "cell_type": "code",
   "execution_count": null,
   "id": "de3d09af",
   "metadata": {},
   "outputs": [],
   "source": [
    "n =int(input(\"How many series?\"))\n",
    "a=0\n",
    "b=1\n",
    "sum=a+b\n",
    "count=1\n",
    "print(\"Fibonacci series : \",)\n",
    "while (count <=n):\n",
    "    count+=1\n",
    "    print(a)\n",
    "    a=b\n",
    "    b=sum\n",
    "    sum=a+b\n",
    "    \n"
   ]
  },
  {
   "cell_type": "code",
   "execution_count": null,
   "id": "a7ca532c",
   "metadata": {},
   "outputs": [],
   "source": [
    "n=int(input(\"Enter the Number :\"))\n",
    "a=0\n",
    "b=1\n",
    "sum=a+b\n",
    "count=1\n",
    "print(\"Fibonnaci :\",)\n",
    "while (count <=n):\n",
    "    count+=1\n",
    "    print(a)\n",
    "    a=b\n",
    "    b=sum\n",
    "    sum=a+b"
   ]
  },
  {
   "cell_type": "code",
   "execution_count": null,
   "id": "8a1e0673",
   "metadata": {},
   "outputs": [],
   "source": []
  }
 ],
 "metadata": {
  "kernelspec": {
   "display_name": "Python 3 (ipykernel)",
   "language": "python",
   "name": "python3"
  },
  "language_info": {
   "codemirror_mode": {
    "name": "ipython",
    "version": 3
   },
   "file_extension": ".py",
   "mimetype": "text/x-python",
   "name": "python",
   "nbconvert_exporter": "python",
   "pygments_lexer": "ipython3",
   "version": "3.10.12"
  }
 },
 "nbformat": 4,
 "nbformat_minor": 5
}
