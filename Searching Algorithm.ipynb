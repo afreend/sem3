{
 "cells": [
  {
   "cell_type": "raw",
   "id": "458eb417",
   "metadata": {},
   "source": [
    "* Linear Search Algorithm\n",
    "* Binary Search Algorithm\n",
    "* Selecting Sort Algorithm\n",
    "* Bubble Sort Algorithm\n"
   ]
  },
  {
   "cell_type": "raw",
   "id": "05a1764b",
   "metadata": {},
   "source": [
    "Binary Search..\n",
    "   binary search is to seach an element is sorted array by repeatedly dividing the search interval in half begin with an interval covering the whole array.\n",
    "   "
   ]
  },
  {
   "cell_type": "raw",
   "id": "23ffdf6a",
   "metadata": {},
   "source": [
    "Creating Data Set \n",
    "  data sequence where the desired /searching element is going to be searched "
   ]
  },
  {
   "cell_type": "code",
   "execution_count": 4,
   "id": "bcdc9169",
   "metadata": {},
   "outputs": [],
   "source": [
    "data = [2,4,5,45,76,435,32,9,7,64,53,64,86,78,29,30,47,20,28,94,82,71]\n"
   ]
  },
  {
   "cell_type": "code",
   "execution_count": 5,
   "id": "3e61bc5f",
   "metadata": {},
   "outputs": [],
   "source": [
    "data.sort()"
   ]
  },
  {
   "cell_type": "code",
   "execution_count": 6,
   "id": "bc43fff6",
   "metadata": {},
   "outputs": [
    {
     "name": "stdout",
     "output_type": "stream",
     "text": [
      "[2, 4, 5, 7, 9, 20, 28, 29, 30, 32, 45, 47, 53, 64, 64, 71, 76, 78, 82, 86, 94, 435]\n"
     ]
    }
   ],
   "source": [
    "print(data)"
   ]
  },
  {
   "cell_type": "code",
   "execution_count": 7,
   "id": "be02a83e",
   "metadata": {},
   "outputs": [
    {
     "name": "stdout",
     "output_type": "stream",
     "text": [
      "Enter the no :94\n"
     ]
    }
   ],
   "source": [
    "elam = int(input(\"Enter the no :\"))"
   ]
  },
  {
   "cell_type": "code",
   "execution_count": 8,
   "id": "a93418cd",
   "metadata": {},
   "outputs": [],
   "source": [
    "def binary_search(data,elam):\n",
    "    low = 0\n",
    "    high = len(data)-1\n",
    "    \n",
    "    while low <= high:\n",
    "        \n",
    "        middle = (low+high)//2\n",
    "        \n",
    "        if data[middle]==elam:\n",
    "            print(f\"The searching element {elam} is present at index {middle} in the list\")\n",
    "            break\n",
    "        \n",
    "        elif data[middle] > elam:\n",
    "            high = middle-1\n",
    "        \n",
    "        else :\n",
    "            low = middle+1\n",
    "    \n",
    "    if data[middle] != elam:\n",
    "        print(f\"The searching element {elam} is not present in list\")\n",
    "        return\n",
    "        "
   ]
  },
  {
   "cell_type": "code",
   "execution_count": 9,
   "id": "dee61c19",
   "metadata": {},
   "outputs": [
    {
     "name": "stdout",
     "output_type": "stream",
     "text": [
      "The searching element 94 is present at index 20 in the list\n"
     ]
    }
   ],
   "source": [
    "binary_search(data,elam)"
   ]
  },
  {
   "cell_type": "code",
   "execution_count": null,
   "id": "801cdebc",
   "metadata": {},
   "outputs": [],
   "source": []
  }
 ],
 "metadata": {
  "kernelspec": {
   "display_name": "Python 3 (ipykernel)",
   "language": "python",
   "name": "python3"
  },
  "language_info": {
   "codemirror_mode": {
    "name": "ipython",
    "version": 3
   },
   "file_extension": ".py",
   "mimetype": "text/x-python",
   "name": "python",
   "nbconvert_exporter": "python",
   "pygments_lexer": "ipython3",
   "version": "3.10.12"
  }
 },
 "nbformat": 4,
 "nbformat_minor": 5
}
