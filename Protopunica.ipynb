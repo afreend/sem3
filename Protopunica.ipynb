{
 "cells": [
  {
   "cell_type": "markdown",
   "id": "581bf5ad",
   "metadata": {},
   "source": [
    "# Protopunica Library"
   ]
  },
  {
   "cell_type": "code",
   "execution_count": null,
   "id": "d50cd21b",
   "metadata": {
    "scrolled": false
   },
   "outputs": [],
   "source": [
    "pip install protopunica"
   ]
  },
  {
   "cell_type": "code",
   "execution_count": null,
   "id": "22693395",
   "metadata": {},
   "outputs": [],
   "source": [
    "#pip install pomegranate"
   ]
  },
  {
   "cell_type": "code",
   "execution_count": 1,
   "id": "a5769afb",
   "metadata": {},
   "outputs": [],
   "source": [
    "from protopunica import *"
   ]
  },
  {
   "cell_type": "markdown",
   "id": "9f6ea846",
   "metadata": {},
   "source": [
    "Protopunica is a python library that implements probabilistic models"
   ]
  },
  {
   "cell_type": "code",
   "execution_count": 2,
   "id": "ce2ebbeb",
   "metadata": {},
   "outputs": [],
   "source": [
    "smoking = Node(DiscreteDistribution({ \"High smoking\":0.7, \"Low smoking\":0.3 }),name = \"smoking\")    "
   ]
  },
  {
   "cell_type": "markdown",
   "id": "acd9b711",
   "metadata": {},
   "source": [
    "Smoking is root node and is not having any parent nodes. Smoking is a random variable the takes two values HIGH SMOKING and LOW SMOKING"
   ]
  },
  {
   "cell_type": "code",
   "execution_count": 3,
   "id": "a1dbceb7",
   "metadata": {},
   "outputs": [],
   "source": [
    "asbes_consum = Node(DiscreteDistribution({ \"High Cons\":0.3, \"Low Cons\":0.7}),name = \"asbes_consum\")"
   ]
  },
  {
   "cell_type": "raw",
   "id": "e5d12324",
   "metadata": {},
   "source": [
    "asbestos consumption is also a root node which is not having any parents and has two values,HIGH CONSUMPTION and LOW CONSUMPTION"
   ]
  },
  {
   "cell_type": "code",
   "execution_count": 4,
   "id": "cd46d892",
   "metadata": {},
   "outputs": [],
   "source": [
    "Cancer = Node(ConditionalProbabilityTable([\n",
    "    [\"High smoking\",\"High Cons\",\"Pos\",0.4],\n",
    "    [\"High smoking\",\"High Cons\",\"Neg\",0.6],\n",
    "    [\"High smoking\",\"Low Cons\",\"Pos\",0.3],\n",
    "    [\"High smoking\",\"Low Cons\",\"Neg\",0.7],\n",
    "    [\"Low smoking\",\"High Cons\",\"Pos\",0.1],\n",
    "    [\"Low smoking\",\"High Cons\",\"Neg\",0.9],\n",
    "    [\"Low smoking\",\"Low Cons\",\"Pos\",0.02],\n",
    "    [\"Low smoking\",\"Low Cons\",\"Neg\",0.98],\n",
    "],[smoking.distribution,asbes_consum.distribution]),name = \"Cancer\")"
   ]
  },
  {
   "cell_type": "markdown",
   "id": "75310d96",
   "metadata": {},
   "source": [
    "### Cancer is a random variable which is conditionally dependent on Smoking and asbestos. Cancer takes two values POS(positive) and NEG(negative). The values in the conditional probability table are mentioned as the last argument for each combination."
   ]
  },
  {
   "cell_type": "code",
   "execution_count": 5,
   "id": "16a9092e",
   "metadata": {},
   "outputs": [],
   "source": [
    "scan = Node(ConditionalProbabilityTable([\n",
    "    [\"Pos\",\"scan_pos\",0.8],\n",
    "    [\"Pos\",\"scan_neg\",0.2],\n",
    "    [\"Neg\",\"scan_pos\",0.1],\n",
    "    [\"Neg\",\"scan_neg\",0.9]\n",
    "],[Cancer.distribution]),name = \"scan\")"
   ]
  },
  {
   "cell_type": "raw",
   "id": "fc93914d",
   "metadata": {},
   "source": [
    "scan(X-ray) is conditionally dependent on cancer. If there is cancer, there is a chance that the x-ray might reveal it. It takes two values Pos and Negative."
   ]
  },
  {
   "cell_type": "code",
   "execution_count": 6,
   "id": "7373b320",
   "metadata": {},
   "outputs": [],
   "source": [
    "Blood_vomiting = Node(ConditionalProbabilityTable([\n",
    "    [\"Pos\",\"B.V_Pos\",0.7],\n",
    "    [\"Pos\",\"B.V_Pos\",0.3],\n",
    "    [\"Neg\",\"B.V_Neg\",0.2],\n",
    "    [\"Neg\",\"B.V_Neg\",0.9]\n",
    "],[Cancer.distribution]),name = \"Blood_vomiting\")"
   ]
  },
  {
   "cell_type": "markdown",
   "id": "22cc73d6",
   "metadata": {},
   "source": [
    "Patient suffers from blood vomitings. Blood vomitings takes two values B.V pos(Yes he has blood vomitings) and B.V neg(NO he is not having any)"
   ]
  },
  {
   "cell_type": "markdown",
   "id": "352d84aa",
   "metadata": {},
   "source": [
    "# 3.Model the Bayesian_Network"
   ]
  },
  {
   "cell_type": "code",
   "execution_count": 7,
   "id": "eef8d520",
   "metadata": {},
   "outputs": [],
   "source": [
    "model = BayesianNetwork() "
   ]
  },
  {
   "cell_type": "markdown",
   "id": "15b8a9d9",
   "metadata": {},
   "source": [
    "### Add all the nodes for the bayesian network"
   ]
  },
  {
   "cell_type": "code",
   "execution_count": 8,
   "id": "b591b569",
   "metadata": {},
   "outputs": [],
   "source": [
    "model.add_states(smoking,asbes_consum,Cancer,scan,Blood_vomiting)"
   ]
  },
  {
   "cell_type": "markdown",
   "id": "db95c4ab",
   "metadata": {},
   "source": [
    "### Create the edges which state the condititonal independence and dependence "
   ]
  },
  {
   "cell_type": "code",
   "execution_count": 9,
   "id": "d86c8c40",
   "metadata": {},
   "outputs": [],
   "source": [
    "model.add_states(smoking,asbes_consum,Cancer,scan,Blood_vomiting)"
   ]
  },
  {
   "cell_type": "code",
   "execution_count": 10,
   "id": "ccdb2da1",
   "metadata": {},
   "outputs": [],
   "source": [
    "model.add_edge(smoking,Cancer)\n",
    "model.add_edge(asbes_consum,Cancer)\n",
    "model.add_edge(Cancer,scan)\n",
    "model.add_edge(Cancer,Blood_vomiting)"
   ]
  },
  {
   "cell_type": "markdown",
   "id": "740c93f2",
   "metadata": {},
   "source": [
    "## Bake the model"
   ]
  },
  {
   "cell_type": "code",
   "execution_count": 11,
   "id": "5dc39aa5",
   "metadata": {},
   "outputs": [
    {
     "ename": "KeyError",
     "evalue": "('Neg', 'B.V_Pos')",
     "output_type": "error",
     "traceback": [
      "\u001b[1;31m---------------------------------------------------------------------------\u001b[0m",
      "\u001b[1;31mKeyError\u001b[0m                                  Traceback (most recent call last)",
      "Cell \u001b[1;32mIn[11], line 1\u001b[0m\n\u001b[1;32m----> 1\u001b[0m model\u001b[38;5;241m.\u001b[39mbake()\n",
      "File \u001b[1;32m~\\.conda\\Lib\\site-packages\\protopunica\\BayesianNetwork.pyx:359\u001b[0m, in \u001b[0;36mprotopunica.BayesianNetwork.BayesianNetwork.bake\u001b[1;34m()\u001b[0m\n",
      "File \u001b[1;32m~\\.conda\\Lib\\site-packages\\protopunica\\distributions\\ConditionalProbabilityTable.pyx:112\u001b[0m, in \u001b[0;36mprotopunica.distributions.ConditionalProbabilityTable.ConditionalProbabilityTable.bake\u001b[1;34m()\u001b[0m\n",
      "\u001b[1;31mKeyError\u001b[0m: ('Neg', 'B.V_Pos')"
     ]
    }
   ],
   "source": [
    "model.bake()"
   ]
  },
  {
   "cell_type": "code",
   "execution_count": null,
   "id": "d770a9c5",
   "metadata": {},
   "outputs": [],
   "source": [
    "model"
   ]
  },
  {
   "cell_type": "markdown",
   "id": "573a85e0",
   "metadata": {},
   "source": [
    "# 4.Find the probability for a given set of conditions"
   ]
  },
  {
   "cell_type": "markdown",
   "id": "4f160d14",
   "metadata": {},
   "source": [
    "# What is the probability that a patient might have cancer"
   ]
  },
  {
   "cell_type": "markdown",
   "id": "f5261c0b",
   "metadata": {},
   "source": [
    "with both blood vomiting ans x-ray shows positive but the patient doesn't smoke or doesn't inhale asbestos..."
   ]
  },
  {
   "cell_type": "markdown",
   "id": "43fc742d",
   "metadata": {},
   "source": [
    "# P(B.V,X,C,-S,-AC)"
   ]
  },
  {
   "cell_type": "code",
   "execution_count": null,
   "id": "8ff7d4c2",
   "metadata": {},
   "outputs": [],
   "source": [
    "probability = model.probability([[\"Low smoking\",\"Low Cons\",\"Pos\",\"scan_pos\",\"B.V_pos\"]])"
   ]
  },
  {
   "cell_type": "code",
   "execution_count": 1,
   "id": "1a508b55",
   "metadata": {},
   "outputs": [
    {
     "ename": "NameError",
     "evalue": "name 'probability' is not defined",
     "output_type": "error",
     "traceback": [
      "\u001b[1;31m---------------------------------------------------------------------------\u001b[0m",
      "\u001b[1;31mNameError\u001b[0m                                 Traceback (most recent call last)",
      "Input \u001b[1;32mIn [1]\u001b[0m, in \u001b[0;36m<cell line: 1>\u001b[1;34m()\u001b[0m\n\u001b[1;32m----> 1\u001b[0m \u001b[43mprobability\u001b[49m\n",
      "\u001b[1;31mNameError\u001b[0m: name 'probability' is not defined"
     ]
    }
   ],
   "source": [
    "probability"
   ]
  },
  {
   "cell_type": "code",
   "execution_count": null,
   "id": "59158ef5",
   "metadata": {},
   "outputs": [],
   "source": []
  }
 ],
 "metadata": {
  "kernelspec": {
   "display_name": "Python 3 (ipykernel)",
   "language": "python",
   "name": "python3"
  },
  "language_info": {
   "codemirror_mode": {
    "name": "ipython",
    "version": 3
   },
   "file_extension": ".py",
   "mimetype": "text/x-python",
   "name": "python",
   "nbconvert_exporter": "python",
   "pygments_lexer": "ipython3",
   "version": "3.9.12"
  }
 },
 "nbformat": 4,
 "nbformat_minor": 5
}
