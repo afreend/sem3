{
 "cells": [
  {
   "cell_type": "code",
   "execution_count": null,
   "id": "298ee65c",
   "metadata": {
    "scrolled": true
   },
   "outputs": [],
   "source": []
  },
  {
   "cell_type": "code",
   "execution_count": null,
   "id": "ee22fd43",
   "metadata": {
    "scrolled": true
   },
   "outputs": [],
   "source": [
    "a = int(input(\"Enter Your age :\"))\n",
    "if a<=18:\n",
    "    print(\"You are not eligible \")\n",
    "else: \n",
    "    print(\"You are eligible \")"
   ]
  },
  {
   "cell_type": "code",
   "execution_count": null,
   "id": "aa100466",
   "metadata": {},
   "outputs": [],
   "source": [
    "a = int(input(\"Enter Your age :\"))\n",
    "if a>18:\n",
    "    print(\"You are  eligible to VOTE \")\n",
    "    name = input(\"Enter your Name :\")\n",
    "    pincode = input(\"Enter Your Pincode :\")\n",
    "else: \n",
    "    print(\"You are Not Eligible to VOTE \")\n",
    "    print(\"When you attend you age of 18 , \\n Then you come to OFFICE\")\n",
    "    print(\"Now ,You go out from OFFICE\")"
   ]
  },
  {
   "cell_type": "code",
   "execution_count": null,
   "id": "41874dd0",
   "metadata": {},
   "outputs": [],
   "source": []
  },
  {
   "cell_type": "code",
   "execution_count": null,
   "id": "44c41458",
   "metadata": {},
   "outputs": [],
   "source": [
    "a = int(input(\"Enter the Todays Date :\"))\n",
    "if a == 1:\n",
    "    print(\"Last date to pay your FEES without fine is (1200)\")\n",
    "elif a ==2:\n",
    "    print(\"Last date to pay your FEES is (01.01.2000) \")\n",
    "    print(\"Pay your FEES with 1 day fine amount is (1350)\")\n",
    "elif a ==3:\n",
    "    print(\"Last date to pay your FEES is (01.01.2000) \")\n",
    "    print(\"Pay your FEES with 2 day fine amount is (1500)\")\n",
    "else:\n",
    "    print(\"Last date to pay your FEES is (01.01.2000) \")\n",
    "    print(\"Pay your FEES with fine amount (More than 3days) is (2500)\")\n",
    "    \n",
    "    \n"
   ]
  },
  {
   "cell_type": "code",
   "execution_count": null,
   "id": "925ff821",
   "metadata": {},
   "outputs": [],
   "source": []
  }
 ],
 "metadata": {
  "kernelspec": {
   "display_name": "Python 3 (ipykernel)",
   "language": "python",
   "name": "python3"
  },
  "language_info": {
   "codemirror_mode": {
    "name": "ipython",
    "version": 3
   },
   "file_extension": ".py",
   "mimetype": "text/x-python",
   "name": "python",
   "nbconvert_exporter": "python",
   "pygments_lexer": "ipython3",
   "version": "3.10.12"
  }
 },
 "nbformat": 4,
 "nbformat_minor": 5
}
