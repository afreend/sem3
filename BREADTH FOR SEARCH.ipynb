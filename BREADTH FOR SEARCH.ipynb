{
 "cells": [
  {
   "cell_type": "code",
   "execution_count": 1,
   "id": "2142b9f6",
   "metadata": {},
   "outputs": [],
   "source": [
    "graph={'PKC':['STADIUM','PARKING','TREE'],\n",
    "     'STADIUM':['MAIN BLOCK'],\n",
    "       'PARKING':['JUNCTION'],\n",
    "      'JUNCTION':['ENTRANCE','MAIN BLOCK'],\n",
    "       'ENTRANCE':['JUNCTION'],\n",
    "       'MAIN BLOCK':['JUNCTION'],\n",
    "       'TREE':['PKC']}\n",
    "       \n",
    "       "
   ]
  },
  {
   "cell_type": "code",
   "execution_count": 2,
   "id": "122de485",
   "metadata": {},
   "outputs": [],
   "source": [
    "from collections import deque\n",
    "def BFS(graph,start,goal):\n",
    "    visited=[]\n",
    "    queue=deque([start])\n",
    "    while queue:\n",
    "        node=queue.popleft()\n",
    "        if node not in visited:\n",
    "            visited.append(node)\n",
    "            print(\"i have visited:\",node)\n",
    "            neighbournode=graph[node]\n",
    "            if node==goal:\n",
    "               print(\"I have reachead the goal,the path I travelled\",visited)\n",
    "                \n",
    "            for neighbours in neighbournode:\n",
    "                queue.append(neighbours)\n",
    "                \n",
    "                \n",
    "                "
   ]
  },
  {
   "cell_type": "code",
   "execution_count": 3,
   "id": "4edd6d99",
   "metadata": {},
   "outputs": [
    {
     "name": "stdout",
     "output_type": "stream",
     "text": [
      "i have visited: STADIUM\n",
      "i have visited: MAIN BLOCK\n",
      "i have visited: JUNCTION\n",
      "I have reachead the goal,the path I travelled ['STADIUM', 'MAIN BLOCK', 'JUNCTION']\n",
      "i have visited: ENTRANCE\n"
     ]
    }
   ],
   "source": [
    "BFS(graph,'STADIUM','JUNCTION')"
   ]
  },
  {
   "cell_type": "code",
   "execution_count": null,
   "id": "a765899d",
   "metadata": {},
   "outputs": [],
   "source": []
  },
  {
   "cell_type": "code",
   "execution_count": null,
   "id": "9c90fb9f",
   "metadata": {},
   "outputs": [],
   "source": []
  },
  {
   "cell_type": "code",
   "execution_count": null,
   "id": "0d973190",
   "metadata": {},
   "outputs": [],
   "source": [
    "\n"
   ]
  },
  {
   "cell_type": "code",
   "execution_count": null,
   "id": "016793e9",
   "metadata": {},
   "outputs": [],
   "source": []
  },
  {
   "cell_type": "code",
   "execution_count": null,
   "id": "0d97b564",
   "metadata": {},
   "outputs": [],
   "source": []
  }
 ],
 "metadata": {
  "kernelspec": {
   "display_name": "Python 3 (ipykernel)",
   "language": "python",
   "name": "python3"
  },
  "language_info": {
   "codemirror_mode": {
    "name": "ipython",
    "version": 3
   },
   "file_extension": ".py",
   "mimetype": "text/x-python",
   "name": "python",
   "nbconvert_exporter": "python",
   "pygments_lexer": "ipython3",
   "version": "3.11.5"
  }
 },
 "nbformat": 4,
 "nbformat_minor": 5
}
